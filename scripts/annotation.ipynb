{
 "cells": [
  {
   "cell_type": "code",
   "execution_count": null,
   "id": "1bb992a1",
   "metadata": {},
   "outputs": [],
   "source": [
    "import pandas as pd\n",
    "\n",
    "# Pfad zur TSV-Datei\n",
    "tsv_path = \"../ds005873-download/sub-001/ses-01/eeg/sub-001_ses-01_task-szMonitoring_run-03_events.tsv\"\n",
    "\n",
    "# Einlesen der Datei\n",
    "df = pd.read_csv(tsv_path, delimiter=\"\\t\")\n",
    "\n",
    "# Erste Zeilen anzeigen\n",
    "print(df.head())\n"
   ]
  }
 ],
 "metadata": {
  "language_info": {
   "name": "python"
  }
 },
 "nbformat": 4,
 "nbformat_minor": 5
}
