{
 "cells": [
  {
   "cell_type": "markdown",
   "metadata": {},
   "source": [
    "# ECG Data Visualization Example\n",
    "\n",
    "This notebook demonstrates how to load and visualize ECG data from the SeizeIT2 dataset using the provided data classes."
   ]
  },
  {
   "cell_type": "code",
   "execution_count": null,
   "metadata": {},
   "outputs": [],
   "source": [
    "import sys\n",
    "import os\n",
    "from pathlib import Path\n",
    "import matplotlib.pyplot as plt\n",
    "import numpy as np\n",
    "\n",
    "# Add Information/Data/seizeit2-main to path\n",
    "sys.path.append(os.path.join('..', 'Information', 'Data', 'seizeit2-main'))\n",
    "\n",
    "from classes.data import Data\n",
    "from classes.annotation import Annotation"
   ]
  },
  {
   "cell_type": "markdown",
   "metadata": {},
   "source": [
    "## Define Plot Function\n",
    "\n",
    "This function loads and plots ECG data for a specified patient."
   ]
  },
  {
   "cell_type": "code",
   "metadata": {},
   "outputs": [],
   "source": "def plot_patient_ecg(data_path, patient_id='sub-001', duration_minutes=5):\n    \"\"\"\n    Lädt und plottet ECG-Daten eines Patienten mit Seizure-Markierungen\n    \n    Args:\n        data_path (str): Pfad zum ds005873-download Ordner\n        patient_id (str): Patient ID (z.B. 'sub-001')\n        duration_minutes (int): Anzahl Minuten zum Plotten\n    \"\"\"\n    \n    data_path = Path(data_path)\n    \n    # Überprüfe ob Pfad existiert\n    if not data_path.exists():\n        print(f\"Fehler: Pfad {data_path} existiert nicht!\")\n        return\n    \n    # Finde verfügbare Aufnahmen für den Patienten\n    patient_path = data_path / patient_id / 'ses-01' / 'ecg'\n    if not patient_path.exists():\n        print(f\"Fehler: ECG-Daten für {patient_id} nicht gefunden!\")\n        return\n    \n    # Lade erste verfügbare ECG-Aufnahme\n    ecg_files = list(patient_path.glob(\"*.edf\"))\n    if not ecg_files:\n        print(f\"Keine ECG-Dateien für {patient_id} gefunden!\")\n        return\n    \n    # Extrahiere run-info aus Dateiname\n    first_file = ecg_files[0]\n    run_info = first_file.name.split('_')[-2]  # z.B. 'run-01'\n    \n    print(f\"Lade Daten für {patient_id}, {run_info}\")\n    \n    # Lade ECG-Daten\n    recording = [patient_id, run_info]\n    data = Data.loadData(data_path.as_posix(), recording, modalities=['ecg'])\n    \n    if not data.data:\n        print(\"Keine ECG-Daten geladen!\")\n        return\n    \n    # Lade Annotationen\n    annotations = None\n    try:\n        annotations = Annotation.loadAnnotation(data_path.as_posix(), recording)\n        print(f\"Annotationen geladen: {len(annotations.events)} Seizure-Events gefunden\")\n    except Exception as e:\n        print(f\"Warnung: Annotationen konnten nicht geladen werden: {e}\")\n    \n    # Plot ECG-Daten\n    ecg_signal = data.data[0]  # Erste ECG-Kanal\n    fs = data.fs[0]  # Sampling frequency\n    channel_name = data.channels[0] if data.channels else 'ECG'\n    \n    # Zeitachse erstellen\n    total_samples = len(ecg_signal)\n    time_total = total_samples / fs\n    time = np.linspace(0, time_total, total_samples)\n    \n    # Begrenzen auf gewünschte Dauer\n    max_samples = int(duration_minutes * 60 * fs)\n    if max_samples < total_samples:\n        ecg_signal = ecg_signal[:max_samples]\n        time = time[:max_samples]\n        plot_duration = duration_minutes * 60\n    else:\n        plot_duration = time_total\n    \n    # Plot erstellen\n    plt.figure(figsize=(15, 8))\n    plt.plot(time, ecg_signal, 'b-', linewidth=0.5, label='ECG Signal')\n    \n    # Seizure-Bereiche markieren\n    seizure_count = 0\n    if annotations and annotations.events:\n        for i, (start_time, end_time) in enumerate(annotations.events):\n            # Nur Seizures im sichtbaren Zeitbereich anzeigen\n            if start_time < plot_duration:\n                # Begrenze end_time auf sichtbaren Bereich\n                visible_end = min(end_time, plot_duration)\n                \n                plt.axvspan(start_time, visible_end, alpha=0.3, color='red', \n                           label='Seizure' if i == 0 else \"\")\n                \n                # Füge Text-Annotation hinzu\n                mid_time = (start_time + visible_end) / 2\n                seizure_type = annotations.types[i] if i < len(annotations.types) else 'unknown'\n                plt.text(mid_time, plt.ylim()[1] * 0.9, f'Seizure\\n{seizure_type}', \n                        ha='center', va='top', fontsize=8, \n                        bbox=dict(boxstyle='round,pad=0.3', facecolor='red', alpha=0.7))\n                seizure_count += 1\n    \n    plt.xlabel('Zeit (s)')\n    plt.ylabel('Amplitude')\n    plt.title(f'ECG Signal mit Seizure-Markierungen - {patient_id} {run_info} - Kanal: {channel_name}')\n    plt.grid(True, alpha=0.3)\n    plt.legend()\n    \n    # Zeige Sampling-Info und Seizure-Info\n    info_text = f'Sampling Rate: {fs} Hz\\nGesamtdauer: {time_total:.1f}s\\nSeizures im Plot: {seizure_count}'\n    if annotations and annotations.events:\n        total_seizures = len(annotations.events)\n        info_text += f'\\nTotal Seizures: {total_seizures}'\n    \n    plt.text(0.02, 0.98, info_text, \n             transform=plt.gca().transAxes, verticalalignment='top',\n             bbox=dict(boxstyle='round', facecolor='wheat', alpha=0.8))\n    \n    plt.tight_layout()\n    plt.show()\n    \n    print(f\"ECG-Daten geladen:\")\n    print(f\"  - Kanäle: {data.channels}\")\n    print(f\"  - Sampling Rates: {data.fs} Hz\")\n    print(f\"  - Datenpunkte: {len(ecg_signal)}\")\n    print(f\"  - Dauer: {time_total:.1f} Sekunden\")\n    \n    if annotations and annotations.events:\n        print(f\"\\nSeizure-Informationen:\")\n        for i, (start, end) in enumerate(annotations.events):\n            seizure_type = annotations.types[i] if i < len(annotations.types) else 'unknown'\n            duration = end - start\n            print(f\"  - Seizure {i+1}: {start:.1f}s - {end:.1f}s ({duration:.1f}s, Type: {seizure_type})\")\n    \n    return data, annotations"
  },
  {
   "cell_type": "markdown",
   "metadata": {},
   "source": [
    "## Configuration\n",
    "\n",
    "Set the dataset path and plotting parameters."
   ]
  },
  {
   "cell_type": "code",
   "execution_count": null,
   "metadata": {},
   "outputs": [],
   "source": [
    "# Dataset ist bereits im Projektordner verfügbar\n",
    "dataset_path = \"../ds005873-download\"\n",
    "\n",
    "print(\"ECG Plotting Script für SeizeIT2 Dataset\")\n",
    "print(\"=\" * 50)\n",
    "print(f\"Dataset Pfad: {dataset_path}\")\n",
    "print()"
   ]
  },
  {
   "cell_type": "markdown",
   "metadata": {},
   "source": [
    "## Plot ECG Data\n",
    "\n",
    "Load and visualize ECG data for a patient."
   ]
  },
  {
   "cell_type": "code",
   "execution_count": null,
   "metadata": {},
   "outputs": [],
   "source": [
    "# Lade und plotte ECG für ersten Patienten\n",
    "data, annotations = plot_patient_ecg(dataset_path, patient_id='sub-001', duration_minutes=2)"
   ]
  },
  {
   "cell_type": "markdown",
   "metadata": {},
   "source": [
    "## Explore Different Patients\n",
    "\n",
    "You can modify the patient_id and duration_minutes to explore different patients and time segments."
   ]
  },
  {
   "cell_type": "code",
   "execution_count": null,
   "metadata": {},
   "outputs": [],
   "source": [
    "# Example: Plot different patient\n",
    "# plot_patient_ecg(dataset_path, patient_id='sub-002', duration_minutes=5)\n",
    "\n",
    "# Example: Plot longer duration\n",
    "# plot_patient_ecg(dataset_path, patient_id='sub-001', duration_minutes=10)"
   ]
  },
  {
   "cell_type": "markdown",
   "source": "## Function for Finding Patients with Seizures\n\nLet's add a helper function to find patients that have seizure annotations.",
   "metadata": {}
  },
  {
   "cell_type": "code",
   "source": "def find_patients_with_seizures(data_path, max_patients=5):\n    \"\"\"\n    Findet Patienten mit Seizure-Annotationen\n    \n    Args:\n        data_path (str): Pfad zum ds005873-download Ordner\n        max_patients (int): Maximale Anzahl Patienten zu überprüfen\n    \n    Returns:\n        list: Liste von (patient_id, run_id, seizure_count) Tupeln\n    \"\"\"\n    data_path = Path(data_path)\n    patients_with_seizures = []\n    \n    # Finde alle Patienten-Ordner\n    patient_dirs = sorted([d for d in data_path.iterdir() if d.is_dir() and d.name.startswith('sub-')])\n    \n    print(f\"Überprüfe {min(max_patients, len(patient_dirs))} Patienten auf Seizure-Annotationen...\")\n    \n    for i, patient_dir in enumerate(patient_dirs[:max_patients]):\n        patient_id = patient_dir.name\n        \n        # Suche nach ECG-Dateien\n        ecg_path = patient_dir / 'ses-01' / 'ecg'\n        if not ecg_path.exists():\n            continue\n            \n        ecg_files = list(ecg_path.glob(\"*.edf\"))\n        for ecg_file in ecg_files:\n            # Extrahiere run-info\n            run_info = ecg_file.name.split('_')[-2]\n            \n            try:\n                # Versuche Annotationen zu laden\n                recording = [patient_id, run_info]\n                annotations = Annotation.loadAnnotation(data_path.as_posix(), recording)\n                \n                if annotations.events and len(annotations.events) > 0:\n                    patients_with_seizures.append((patient_id, run_info, len(annotations.events)))\n                    print(f\"✓ {patient_id} {run_info}: {len(annotations.events)} Seizures\")\n                    \n            except Exception as e:\n                continue  # Keine Annotationen verfügbar\n    \n    return patients_with_seizures",
   "metadata": {},
   "outputs": []
  },
  {
   "cell_type": "markdown",
   "source": "## Find and Plot Patients with Seizures\n\nNow let's find patients that have seizure data and plot their ECG with seizure markings.",
   "metadata": {}
  },
  {
   "cell_type": "code",
   "source": "# Finde Patienten mit Seizures\nseizure_patients = find_patients_with_seizures(dataset_path, max_patients=10)\n\nif seizure_patients:\n    print(f\"\\nGefunden: {len(seizure_patients)} Aufnahmen mit Seizures\")\n    print(\"=\" * 50)\n    \n    # Plotte den ersten Patienten mit Seizures\n    patient_id, run_id, seizure_count = seizure_patients[0]\n    print(f\"\\nPlotte {patient_id} {run_id} mit {seizure_count} Seizure(s):\")\n    \n    # Längere Zeitspanne um Seizures zu zeigen\n    data, annotations = plot_patient_ecg(dataset_path, patient_id=patient_id, duration_minutes=10)\n    \nelse:\n    print(\"Keine Patienten mit Seizure-Annotationen in den ersten 10 Patienten gefunden.\")\n    print(\"Versuche mit Standard-Patient sub-001...\")\n    data, annotations = plot_patient_ecg(dataset_path, patient_id='sub-001', duration_minutes=5)",
   "metadata": {},
   "outputs": []
  },
  {
   "cell_type": "markdown",
   "source": "## Detailed Seizure Analysis\n\nLet's create a function to plot a focused view around seizure events.",
   "metadata": {}
  },
  {
   "cell_type": "code",
   "source": "def plot_seizure_detail(data_path, patient_id, run_id, seizure_index=0, pre_seizure_sec=30, post_seizure_sec=30):\n    \"\"\"\n    Plottet einen detaillierten Blick auf eine spezifische Seizure\n    \n    Args:\n        data_path (str): Pfad zum Dataset\n        patient_id (str): Patient ID\n        run_id (str): Run ID\n        seizure_index (int): Index der Seizure (0 = erste)\n        pre_seizure_sec (int): Sekunden vor der Seizure\n        post_seizure_sec (int): Sekunden nach der Seizure\n    \"\"\"\n    \n    # Lade Daten\n    recording = [patient_id, run_id]\n    data = Data.loadData(data_path, recording, modalities=['ecg'])\n    annotations = Annotation.loadAnnotation(data_path, recording)\n    \n    if not annotations.events or seizure_index >= len(annotations.events):\n        print(f\"Seizure {seizure_index} nicht gefunden!\")\n        return\n    \n    seizure_start, seizure_end = annotations.events[seizure_index]\n    seizure_type = annotations.types[seizure_index] if seizure_index < len(annotations.types) else 'unknown'\n    \n    # ECG-Signal vorbereiten\n    ecg_signal = data.data[0]\n    fs = data.fs[0]\n    \n    # Zeitfenster definieren\n    plot_start_time = max(0, seizure_start - pre_seizure_sec)\n    plot_end_time = min(len(ecg_signal)/fs, seizure_end + post_seizure_sec)\n    \n    # Sample-Indices berechnen\n    start_idx = int(plot_start_time * fs)\n    end_idx = int(plot_end_time * fs)\n    \n    # Signal und Zeit extrahieren\n    plot_signal = ecg_signal[start_idx:end_idx]\n    plot_time = np.linspace(plot_start_time, plot_end_time, len(plot_signal))\n    \n    # Plot erstellen\n    plt.figure(figsize=(15, 6))\n    plt.plot(plot_time, plot_signal, 'b-', linewidth=0.8, label='ECG Signal')\n    \n    # Seizure-Bereich markieren\n    plt.axvspan(seizure_start, seizure_end, alpha=0.3, color='red', label=f'Seizure ({seizure_type})')\n    \n    # Pre- und Post-Seizure Bereiche markieren\n    plt.axvspan(plot_start_time, seizure_start, alpha=0.1, color='green', label='Pre-Seizure')\n    plt.axvspan(seizure_end, plot_end_time, alpha=0.1, color='orange', label='Post-Seizure')\n    \n    # Vertikale Linien für Seizure-Grenzen\n    plt.axvline(seizure_start, color='red', linestyle='--', alpha=0.7, label='Seizure Start')\n    plt.axvline(seizure_end, color='red', linestyle=':', alpha=0.7, label='Seizure End')\n    \n    plt.xlabel('Zeit (s)')\n    plt.ylabel('Amplitude')\n    plt.title(f'Seizure Detail - {patient_id} {run_id} - Seizure {seizure_index+1} ({seizure_type})\\\\n'\n              f'Seizure: {seizure_start:.1f}s - {seizure_end:.1f}s (Dauer: {seizure_end-seizure_start:.1f}s)')\n    plt.grid(True, alpha=0.3)\n    plt.legend()\n    \n    # Info-Box\n    info_text = f'Sampling Rate: {fs} Hz\\\\nSeizure Dauer: {seizure_end-seizure_start:.1f}s\\\\nType: {seizure_type}'\n    plt.text(0.02, 0.98, info_text, transform=plt.gca().transAxes, verticalalignment='top',\n             bbox=dict(boxstyle='round', facecolor='wheat', alpha=0.8))\n    \n    plt.tight_layout()\n    plt.show()\n    \n    print(f\"Seizure Detail Plot:\")\n    print(f\"  - Patient: {patient_id} {run_id}\")\n    print(f\"  - Seizure {seizure_index+1}: {seizure_start:.1f}s - {seizure_end:.1f}s\")\n    print(f\"  - Dauer: {seizure_end-seizure_start:.1f}s\")\n    print(f\"  - Type: {seizure_type}\")\n\n# Beispiel-Verwendung für Patienten mit Seizures\nif seizure_patients:\n    patient_id, run_id, seizure_count = seizure_patients[0]\n    print(f\"\\\\nDetaillierter Blick auf erste Seizure von {patient_id} {run_id}:\")\n    plot_seizure_detail(dataset_path, patient_id, run_id, seizure_index=0)",
   "metadata": {},
   "outputs": []
  }
 ],
 "metadata": {
  "kernelspec": {
   "display_name": "Python 3",
   "language": "python",
   "name": "python3"
  },
  "language_info": {
   "codemirror_mode": {
    "name": "ipython",
    "version": 3
   },
   "file_extension": ".py",
   "mimetype": "text/x-python",
   "name": "python",
   "nbconvert_exporter": "python",
   "pygments_lexer": "ipython3",
   "version": "3.8.0"
  }
 },
 "nbformat": 4,
 "nbformat_minor": 4
}