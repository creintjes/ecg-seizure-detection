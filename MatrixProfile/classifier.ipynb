{
 "cells": [
  {
   "cell_type": "code",
   "execution_count": 1,
   "id": "211b3bdf",
   "metadata": {},
   "outputs": [],
   "source": [
    "from load_mp import load_mps"
   ]
  },
  {
   "cell_type": "code",
   "execution_count": 2,
   "id": "23540fe3",
   "metadata": {},
   "outputs": [],
   "source": [
    "path = \"/home/jhagenbe_sw/ASIM/ecg-seizure-detection/MatrixProfile/downsample_freq=32,window_size=120_0,stride=60_0\"\n",
    "\n",
    "mps_list = load_mps(preprocessed_data_path=path)"
   ]
  },
  {
   "cell_type": "code",
   "execution_count": 3,
   "id": "97fb3af4",
   "metadata": {},
   "outputs": [
    {
     "data": {
      "text/plain": [
       "803"
      ]
     },
     "execution_count": 3,
     "metadata": {},
     "output_type": "execute_result"
    }
   ],
   "source": [
    "len(mps_list)"
   ]
  }
 ],
 "metadata": {
  "kernelspec": {
   "display_name": "ASIM_v1",
   "language": "python",
   "name": "python3"
  },
  "language_info": {
   "codemirror_mode": {
    "name": "ipython",
    "version": 3
   },
   "file_extension": ".py",
   "mimetype": "text/x-python",
   "name": "python",
   "nbconvert_exporter": "python",
   "pygments_lexer": "ipython3",
   "version": "3.10.12"
  }
 },
 "nbformat": 4,
 "nbformat_minor": 5
}
