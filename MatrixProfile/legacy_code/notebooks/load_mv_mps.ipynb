{
 "cells": [
  {
   "cell_type": "code",
   "execution_count": 1,
   "id": "bf725bf5",
   "metadata": {},
   "outputs": [],
   "source": [
    "from pathlib import Path\n",
    "from typing import List\n",
    "import pickle\n",
    "import re\n",
    "import os"
   ]
  },
  {
   "cell_type": "code",
   "execution_count": 2,
   "id": "1e5a1b2c",
   "metadata": {},
   "outputs": [],
   "source": [
    "mps_list = []\n",
    "with open(\"/home/jhagenbe_sw/ASIM/ecg-seizure-detection/MatrixProfile/mv_mp/mp_sub-089_run-97.pkl\", \"rb\") as f:\n",
    "    # data = array_list\n",
    "    # mps_list.append(pickle.load(f)[:, 0].reshape(-1, 1))\n",
    "    mps_list.append(pickle.load(f))\n"
   ]
  },
  {
   "cell_type": "code",
   "execution_count": 4,
   "id": "9fb03042",
   "metadata": {},
   "outputs": [
    {
     "data": {
      "text/plain": [
       "(82, 180)"
      ]
     },
     "execution_count": 4,
     "metadata": {},
     "output_type": "execute_result"
    }
   ],
   "source": [
    "mps_list[0].shape"
   ]
  }
 ],
 "metadata": {
  "kernelspec": {
   "display_name": "ASIM_v1",
   "language": "python",
   "name": "python3"
  },
  "language_info": {
   "codemirror_mode": {
    "name": "ipython",
    "version": 3
   },
   "file_extension": ".py",
   "mimetype": "text/x-python",
   "name": "python",
   "nbconvert_exporter": "python",
   "pygments_lexer": "ipython3",
   "version": "3.10.12"
  }
 },
 "nbformat": 4,
 "nbformat_minor": 5
}
