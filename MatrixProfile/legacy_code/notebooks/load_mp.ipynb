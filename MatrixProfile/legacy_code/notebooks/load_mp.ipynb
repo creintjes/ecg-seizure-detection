{
 "cells": [
  {
   "cell_type": "code",
   "execution_count": 1,
   "id": "65bd655e",
   "metadata": {},
   "outputs": [],
   "source": [
    "from pathlib import Path\n",
    "from typing import List\n",
    "import pickle\n",
    "import re\n",
    "import os"
   ]
  },
  {
   "cell_type": "code",
   "execution_count": 1,
   "id": "1e4d9fe0",
   "metadata": {},
   "outputs": [
    {
     "ename": "NameError",
     "evalue": "name 'List' is not defined",
     "output_type": "error",
     "traceback": [
      "\u001b[0;31m---------------------------------------------------------------------------\u001b[0m",
      "\u001b[0;31mNameError\u001b[0m                                 Traceback (most recent call last)",
      "Cell \u001b[0;32mIn[1], line 1\u001b[0m\n\u001b[0;32m----> 1\u001b[0m \u001b[38;5;28;01mdef\u001b[39;00m\u001b[38;5;250m \u001b[39m\u001b[38;5;21mfind_files_with_prefix\u001b[39m(directory: \u001b[38;5;28mstr\u001b[39m, prefix: \u001b[38;5;28mstr\u001b[39m) \u001b[38;5;241m-\u001b[39m\u001b[38;5;241m>\u001b[39m \u001b[43mList\u001b[49m[Path]:\n\u001b[1;32m      2\u001b[0m \u001b[38;5;250m    \u001b[39m\u001b[38;5;124;03m\"\"\"\u001b[39;00m\n\u001b[1;32m      3\u001b[0m \u001b[38;5;124;03m    Finds all files in the given directory that start with the specified prefix.\u001b[39;00m\n\u001b[1;32m      4\u001b[0m \n\u001b[0;32m   (...)\u001b[0m\n\u001b[1;32m     10\u001b[0m \u001b[38;5;124;03m        List[Path]: List of Path objects for matching files.\u001b[39;00m\n\u001b[1;32m     11\u001b[0m \u001b[38;5;124;03m    \"\"\"\u001b[39;00m\n\u001b[1;32m     12\u001b[0m     dir_path \u001b[38;5;241m=\u001b[39m Path(directory)\n",
      "\u001b[0;31mNameError\u001b[0m: name 'List' is not defined"
     ]
    }
   ],
   "source": [
    "def find_files_with_prefix(directory: str, prefix: str) -> List[Path]:\n",
    "    \"\"\"\n",
    "    Finds all files in the given directory that start with the specified prefix.\n",
    "\n",
    "    Args:\n",
    "        directory (str): Path to the directory to search.\n",
    "        prefix (str): The prefix that filenames should start with.\n",
    "\n",
    "    Returns:\n",
    "        List[Path]: List of Path objects for matching files.\n",
    "    \"\"\"\n",
    "    dir_path = Path(directory)\n",
    "    return [file for file in dir_path.iterdir() if file.is_file() and file.name.startswith(prefix)]\n"
   ]
  },
  {
   "cell_type": "code",
   "execution_count": 3,
   "id": "4ed748ce",
   "metadata": {},
   "outputs": [],
   "source": [
    "downsample_freq = 8\n",
    "max_gap_annos_in_sec = 15\n",
    "window_size_sec = 25\n",
    "pre_thresh_sec = 60*5\n",
    "post_thresh_sec = 60*3\n",
    "DIR_preprocessed =  f\"/home/swolf/asim_shared/preprocessed_data/downsample_freq={downsample_freq},no_windows\"\n",
    "\n",
    "config = DIR_preprocessed.split(\"/\")[-1]\n",
    "MPs_path = f\"/home/swolf/asim_shared/results/MP/downsample_freq={downsample_freq},no_windows/seq_len{window_size_sec}sec\""
   ]
  },
  {
   "cell_type": "code",
   "execution_count": 4,
   "id": "04f67402",
   "metadata": {},
   "outputs": [],
   "source": [
    "mps_filenames = [filename for filename in os.listdir(MPs_path) if filename.endswith(\".pkl\")]\n",
    "preprocessed_filenames = [filename for filename in os.listdir(DIR_preprocessed) if filename.endswith(\"_preprocessed.pkl\")]"
   ]
  },
  {
   "cell_type": "code",
   "execution_count": 5,
   "id": "c9ce4cce",
   "metadata": {},
   "outputs": [
    {
     "name": "stdout",
     "output_type": "stream",
     "text": [
      "0\n"
     ]
    },
    {
     "name": "stderr",
     "output_type": "stream",
     "text": [
      "/tmp/ipykernel_2251041/1666676929.py:13: DeprecationWarning: numpy.core.numeric is deprecated and has been renamed to numpy._core.numeric. The numpy._core namespace contains private NumPy internals and its use is discouraged, as NumPy internals can change without warning in any release. In practice, most real-world usage of numpy.core is to access functionality in the public NumPy API. If that is the case, use the public NumPy API. If not, you are using NumPy internals. If you would still like to access an internal attribute, use numpy._core.numeric._frombuffer.\n",
      "  label_list.append(pickle.load(g)[\"channels\"][0][\"labels\"][0])\n"
     ]
    },
    {
     "name": "stdout",
     "output_type": "stream",
     "text": [
      "100\n",
      "200\n",
      "300\n",
      "400\n",
      "500\n",
      "600\n",
      "700\n",
      "800\n",
      "900\n"
     ]
    }
   ],
   "source": [
    "mps_list = []\n",
    "label_list = []\n",
    "for i, mp_filename in enumerate(mps_filenames[:1000]):\n",
    "    if i%100 ==0:\n",
    "        print(i)\n",
    "    mp_filename=mp_filename.__str__()\n",
    "    # Load MP\n",
    "    with open(os.path.join(MPs_path, mp_filename), \"rb\") as f:\n",
    "        # data = array_list\n",
    "        mps_list.append(pickle.load(f)[:, 0].reshape(-1, 1))\n",
    "    # print(os.path.join(DIR_preprocessed, mps_filenames[0][3:-4]+\"_preprocessed.pkl\"))\n",
    "    with open(os.path.join(DIR_preprocessed, mp_filename[3:-4]+\"_preprocessed.pkl\"), \"rb\") as g:\n",
    "        label_list.append(pickle.load(g)[\"channels\"][0][\"labels\"][0])\n",
    "        # label_list.append(pickle.load(g))\n"
   ]
  },
  {
   "cell_type": "code",
   "execution_count": 6,
   "id": "e734b06e",
   "metadata": {},
   "outputs": [],
   "source": [
    "# label_list[]"
   ]
  },
  {
   "cell_type": "code",
   "execution_count": 7,
   "id": "382dd446",
   "metadata": {},
   "outputs": [
    {
     "data": {
      "text/plain": [
       "141"
      ]
     },
     "execution_count": 7,
     "metadata": {},
     "output_type": "execute_result"
    }
   ],
   "source": [
    "import numpy as np\n",
    "test_list = []\n",
    "for i, labels in enumerate(label_list):\n",
    "    if np.sum(labels) > 0:\n",
    "        test_list.append(i)\n",
    "        # print(f\"Sequence {i}: contains {np.sum(labels)} event samples\")\n",
    "len(test_list)"
   ]
  },
  {
   "cell_type": "code",
   "execution_count": 9,
   "id": "92dd6357",
   "metadata": {},
   "outputs": [
    {
     "name": "stdout",
     "output_type": "stream",
     "text": [
      "True\n"
     ]
    }
   ],
   "source": [
    "print(len(label_list)==len(mps_list))"
   ]
  },
  {
   "cell_type": "code",
   "execution_count": 10,
   "id": "15beedc5",
   "metadata": {},
   "outputs": [
    {
     "data": {
      "text/plain": [
       "array([0, 0, 0, ..., 0, 0, 0], shape=(13264,))"
      ]
     },
     "execution_count": 10,
     "metadata": {},
     "output_type": "execute_result"
    }
   ],
   "source": [
    "label_list[0]"
   ]
  },
  {
   "cell_type": "code",
   "execution_count": 11,
   "id": "9287bf61",
   "metadata": {},
   "outputs": [
    {
     "data": {
      "text/plain": [
       "mparray([[15.09674193645468],\n",
       "         [13.825901100183],\n",
       "         [15.572337997950749],\n",
       "         ...,\n",
       "         [13.045173944610982],\n",
       "         [13.051950784690577],\n",
       "         [13.050601518616684]], shape=(13065, 1), dtype=object)"
      ]
     },
     "execution_count": 11,
     "metadata": {},
     "output_type": "execute_result"
    }
   ],
   "source": [
    "mps_list[0]"
   ]
  },
  {
   "cell_type": "code",
   "execution_count": 12,
   "id": "6911a5b8",
   "metadata": {},
   "outputs": [],
   "source": [
    "# Add parent directory (../) to sys.path\n",
    "import sys\n",
    "project_root = Path().resolve().parent\n",
    "if str(project_root) not in sys.path:\n",
    "    sys.path.insert(0, str(project_root))"
   ]
  },
  {
   "cell_type": "code",
   "execution_count": 13,
   "id": "e0f5c103",
   "metadata": {},
   "outputs": [],
   "source": [
    "from utils.metrics import compute_sensitivity_false_alarm_rate_timing_tolerance"
   ]
  },
  {
   "cell_type": "code",
   "execution_count": 14,
   "id": "21489c16",
   "metadata": {},
   "outputs": [],
   "source": [
    "from matrix_profile import MatrixProfile #compute_approx_matrix_profile #get_top_k_anomaly_indices"
   ]
  },
  {
   "cell_type": "code",
   "execution_count": 15,
   "id": "12f11584",
   "metadata": {},
   "outputs": [],
   "source": [
    "amount_of_annomalies_per_record = 10\n",
    "annomaly_indices = [MatrixProfile.get_top_k_anomaly_indices(matrix_profile=mp.flatten(), k=amount_of_annomalies_per_record)\n",
    "                    for mp in mps_list]"
   ]
  },
  {
   "cell_type": "code",
   "execution_count": 16,
   "id": "ad2bdcb7",
   "metadata": {},
   "outputs": [],
   "source": [
    "annomaly_indices_cons = [MatrixProfile.mean_of_all_consecutive_anomalies(indices=annos, n=3, max_gap = downsample_freq*max_gap_annos_in_sec)\n",
    "                         for annos in annomaly_indices]"
   ]
  },
  {
   "cell_type": "code",
   "execution_count": 17,
   "id": "fe745d68",
   "metadata": {},
   "outputs": [
    {
     "name": "stdout",
     "output_type": "stream",
     "text": [
      "False alarms per hour 0.28396843098294433\n"
     ]
    }
   ],
   "source": [
    "sensitivity, false_alarm_rate, true_positives, false_positives = compute_sensitivity_false_alarm_rate_timing_tolerance(\n",
    "    label_sequences=label_list, detection_indices=annomaly_indices_cons, lower=pre_thresh_sec, upper=post_thresh_sec, frequency=downsample_freq\n",
    ")"
   ]
  },
  {
   "cell_type": "code",
   "execution_count": 18,
   "id": "d542801f",
   "metadata": {},
   "outputs": [
    {
     "name": "stdout",
     "output_type": "stream",
     "text": [
      "sensitivity=0.21631205673758866, false_alarm_rate=0.952\n",
      "true_positives=61, false_positives=1190\n"
     ]
    }
   ],
   "source": [
    "print(f\"{sensitivity=}, {false_alarm_rate=}\")\n",
    "print(f\"{true_positives=}, {false_positives=}\")"
   ]
  },
  {
   "cell_type": "code",
   "execution_count": null,
   "id": "4488f6c2",
   "metadata": {},
   "outputs": [
    {
     "data": {
      "text/plain": [
       "13264"
      ]
     },
     "execution_count": 21,
     "metadata": {},
     "output_type": "execute_result"
    }
   ],
   "source": [
    "label_list[0].__len__()"
   ]
  }
 ],
 "metadata": {
  "kernelspec": {
   "display_name": "ASIM_v1",
   "language": "python",
   "name": "python3"
  },
  "language_info": {
   "codemirror_mode": {
    "name": "ipython",
    "version": 3
   },
   "file_extension": ".py",
   "mimetype": "text/x-python",
   "name": "python",
   "nbconvert_exporter": "python",
   "pygments_lexer": "ipython3",
   "version": "3.10.12"
  }
 },
 "nbformat": 4,
 "nbformat_minor": 5
}
