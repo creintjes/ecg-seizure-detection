{
 "cells": [
  {
   "cell_type": "code",
   "execution_count": 24,
   "id": "65bd655e",
   "metadata": {},
   "outputs": [],
   "source": [
    "from pathlib import Path\n",
    "from typing import List\n",
    "import pickle\n",
    "import re"
   ]
  },
  {
   "cell_type": "code",
   "execution_count": 25,
   "id": "1e4d9fe0",
   "metadata": {},
   "outputs": [],
   "source": [
    "def find_files_with_prefix(directory: str, prefix: str) -> List[Path]:\n",
    "    \"\"\"\n",
    "    Finds all files in the given directory that start with the specified prefix.\n",
    "\n",
    "    Args:\n",
    "        directory (str): Path to the directory to search.\n",
    "        prefix (str): The prefix that filenames should start with.\n",
    "\n",
    "    Returns:\n",
    "        List[Path]: List of Path objects for matching files.\n",
    "    \"\"\"\n",
    "    dir_path = Path(directory)\n",
    "    return [file for file in dir_path.iterdir() if file.is_file() and file.name.startswith(prefix)]\n"
   ]
  },
  {
   "cell_type": "code",
   "execution_count": null,
   "id": "b13fc53e",
   "metadata": {},
   "outputs": [],
   "source": [
    "# def sort_paths_by_sample_count(paths: List[Path]) -> List[Path]:\n",
    "#     \"\"\"\n",
    "#     Sorts a list of file paths based on the numeric value following 'samples_till:' in the filename.\n",
    "\n",
    "#     Args:\n",
    "#         paths (List[Path]): List of Path objects whose names contain 'samples_till:NUMBER_'.\n",
    "\n",
    "#     Returns:\n",
    "#         List[Path]: Paths sorted in ascending order by extracted NUMBER.\n",
    "#     \"\"\"\n",
    "#     def extract_number(path: Path) -> int:\n",
    "#         match = re.search(r'samples_till:(\\d+)_', path.name)\n",
    "#         if not match:\n",
    "#             raise ValueError(f\"Filename does not contain 'samples_till:<number>_' pattern: {path.name}\")\n",
    "#         return int(match.group(1))\n",
    "    \n",
    "#     return sorted(paths, key=extract_number)\n"
   ]
  },
  {
   "cell_type": "code",
   "execution_count": 27,
   "id": "4ed748ce",
   "metadata": {},
   "outputs": [],
   "source": [
    "path = \"/home/jhagenbe_sw/ASIM/ecg-seizure-detection/MatrixProfile/downsample_freq=32,window_size=120_0,stride=60_0\"\n",
    "config = path.split(\"/\")[-1]\n",
    "MPs_path = \"/home/jhagenbe_sw/ASIM/ecg-seizure-detection/MatrixProfile/MPs\""
   ]
  },
  {
   "cell_type": "code",
   "execution_count": 28,
   "id": "04f67402",
   "metadata": {},
   "outputs": [],
   "source": [
    "config\n",
    "paths = find_files_with_prefix(directory=MPs_path, prefix=config)"
   ]
  },
  {
   "cell_type": "code",
   "execution_count": 32,
   "id": "c9ce4cce",
   "metadata": {},
   "outputs": [],
   "source": [
    "array_list = []\n",
    "for path in paths:\n",
    "    path=path.__str__()\n",
    "    with open(path, \"rb\") as f:\n",
    "        array_list.extend(pickle.load(f))"
   ]
  },
  {
   "cell_type": "code",
   "execution_count": null,
   "id": "1bf7bddd",
   "metadata": {},
   "outputs": [],
   "source": [
    "array_list"
   ]
  },
  {
   "cell_type": "code",
   "execution_count": 3,
   "id": "9ce7e7bf",
   "metadata": {},
   "outputs": [
    {
     "data": {
      "text/plain": [
       "mparray([[13.126125726669555, 68635, -1, 68635],\n",
       "         [13.089935517781646, 68636, -1, 68636],\n",
       "         [13.107195821700442, 68637, -1, 68637],\n",
       "         ...,\n",
       "         [9.276920986795709, 113686, 113686, -1],\n",
       "         [9.279805152930601, 113687, 113687, -1],\n",
       "         [9.307065841871541, 113688, 113688, -1]],\n",
       "        shape=(114881, 4), dtype=object)"
      ]
     },
     "execution_count": 3,
     "metadata": {},
     "output_type": "execute_result"
    }
   ],
   "source": [
    "array_list[0]"
   ]
  },
  {
   "cell_type": "code",
   "execution_count": 4,
   "id": "82459d23",
   "metadata": {},
   "outputs": [
    {
     "data": {
      "text/plain": [
       "mparray([[13.126125726669555],\n",
       "         [13.089935517781646],\n",
       "         [13.107195821700442],\n",
       "         ...,\n",
       "         [9.276920986795709],\n",
       "         [9.279805152930601],\n",
       "         [9.307065841871541]], shape=(114881, 1), dtype=object)"
      ]
     },
     "execution_count": 4,
     "metadata": {},
     "output_type": "execute_result"
    }
   ],
   "source": [
    "import numpy as np\n",
    "\n",
    "# Beispiel: mparray ist dein ursprüngliches Array\n",
    "# Hier angenommen als:\n",
    "# mparray = np.array([...], dtype=object)\n",
    "\n",
    "reduced = array_list[0][:, 0].reshape(-1, 1)\n",
    "reduced"
   ]
  }
 ],
 "metadata": {
  "kernelspec": {
   "display_name": "ASIM_v1",
   "language": "python",
   "name": "python3"
  },
  "language_info": {
   "codemirror_mode": {
    "name": "ipython",
    "version": 3
   },
   "file_extension": ".py",
   "mimetype": "text/x-python",
   "name": "python",
   "nbconvert_exporter": "python",
   "pygments_lexer": "ipython3",
   "version": "3.10.12"
  }
 },
 "nbformat": 4,
 "nbformat_minor": 5
}
